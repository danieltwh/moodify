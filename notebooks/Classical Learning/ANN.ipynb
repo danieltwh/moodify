{
 "cells": [
  {
   "cell_type": "code",
   "execution_count": 1,
   "metadata": {},
   "outputs": [
    {
     "name": "stderr",
     "output_type": "stream",
     "text": [
      "2024-04-18 20:50:50.803724: I tensorflow/core/platform/cpu_feature_guard.cc:182] This TensorFlow binary is optimized to use available CPU instructions in performance-critical operations.\n",
      "To enable the following instructions: AVX2 AVX512F AVX512_VNNI FMA, in other operations, rebuild TensorFlow with the appropriate compiler flags.\n"
     ]
    }
   ],
   "source": [
    "import numpy as np\n",
    "import pandas as pd\n",
    "from sklearn.datasets import load_digits # used to load a temporary dataset\n",
    "from sklearn.model_selection import train_test_split\n",
    "from sklearn.neighbors import KNeighborsClassifier\n",
    "from sklearn.cluster import KMeans\n",
    "from sklearn.neural_network import MLPClassifier\n",
    "from sklearn.metrics import accuracy_score, recall_score, precision_score, f1_score\n",
    "import random\n",
    "import matplotlib.pyplot as plt\n",
    "from keras.models import Sequential\n",
    "from keras.layers import Dense\n",
    "import keras\n",
    "import seaborn as sns\n",
    "from sklearn.metrics import confusion_matrix, classification_report\n",
    "from tensorflow.keras.preprocessing.image import img_to_array\n",
    "import tensorflow as tf\n",
    "from tensorflow.keras.models import Sequential\n",
    "from tensorflow.keras.layers import Flatten, Dense, Rescaling, Dropout\n",
    "from tensorflow.keras.optimizers import Adam\n",
    "from sklearn.decomposition import PCA\n",
    "from sklearn.decomposition import PCA\n",
    "from sklearn.neighbors import KNeighborsClassifier\n",
    "from sklearn.metrics import classification_report, accuracy_score, confusion_matrix\n",
    "from sklearn.model_selection import GridSearchCV\n",
    "import tensorflow as tf\n",
    "from tensorflow import keras\n",
    "from tensorflow.keras import layers\n",
    "\n",
    "\n",
    "from ultralytics import YOLO\n",
    "from PIL import Image\n",
    "\n",
    "random.seed(2023)"
   ]
  },
  {
   "cell_type": "markdown",
   "metadata": {},
   "source": [
    "## ANN (Artificial Neural Network)"
   ]
  },
  {
   "cell_type": "code",
   "execution_count": 3,
   "metadata": {},
   "outputs": [
    {
     "name": "stdout",
     "output_type": "stream",
     "text": [
      "Found 164 files belonging to 3 classes.\n",
      "Using 132 files for training.\n",
      "Found 164 files belonging to 3 classes.\n",
      "Using 32 files for validation.\n"
     ]
    }
   ],
   "source": [
    "train = keras.utils.image_dataset_from_directory(\n",
    "    directory='../../data/Faces updated',\n",
    "    labels='inferred',\n",
    "    label_mode='categorical',\n",
    "    batch_size=140,\n",
    "    image_size=(1000, 1000),\n",
    "    validation_split = 0.2,\n",
    "    subset = 'training',\n",
    "    seed = 42,\n",
    "    )\n",
    "\n",
    "validation = keras.utils.image_dataset_from_directory(\n",
    "    directory='../../data/Faces updated',\n",
    "    labels='inferred',\n",
    "    label_mode='categorical',\n",
    "    batch_size=140,\n",
    "    image_size=(1000, 1000),\n",
    "    validation_split = 0.2,\n",
    "    subset = 'validation',\n",
    "    seed = 42,\n",
    "    )"
   ]
  },
  {
   "cell_type": "code",
   "execution_count": 4,
   "metadata": {},
   "outputs": [
    {
     "name": "stdout",
     "output_type": "stream",
     "text": [
      "Epoch 1/10\n",
      "1/1 [==============================] - 18s 18s/step - loss: 161.2124 - accuracy: 0.3333 - val_loss: 339261.6250 - val_accuracy: 0.4688\n",
      "Epoch 2/10\n",
      "1/1 [==============================] - 10s 10s/step - loss: 483433.2188 - accuracy: 0.3182 - val_loss: 864465.3750 - val_accuracy: 0.3125\n",
      "Epoch 3/10\n",
      "1/1 [==============================] - 10s 10s/step - loss: 852845.7500 - accuracy: 0.3485 - val_loss: 723345.5625 - val_accuracy: 0.3125\n",
      "Epoch 4/10\n",
      "1/1 [==============================] - 11s 11s/step - loss: 660962.4375 - accuracy: 0.3485 - val_loss: 228594.9219 - val_accuracy: 0.2188\n",
      "Epoch 5/10\n",
      "1/1 [==============================] - 46s 46s/step - loss: 164257.1406 - accuracy: 0.3333 - val_loss: 217076.7969 - val_accuracy: 0.2188\n",
      "Epoch 6/10\n",
      "1/1 [==============================] - 16s 16s/step - loss: 176008.4688 - accuracy: 0.3333 - val_loss: 25533.6523 - val_accuracy: 0.4688\n",
      "Epoch 7/10\n",
      "1/1 [==============================] - 25s 25s/step - loss: 30260.1641 - accuracy: 0.3182 - val_loss: 134660.9219 - val_accuracy: 0.3125\n",
      "Epoch 8/10\n",
      "1/1 [==============================] - 13s 13s/step - loss: 141291.1875 - accuracy: 0.3485 - val_loss: 54524.8867 - val_accuracy: 0.3125\n",
      "Epoch 9/10\n",
      "1/1 [==============================] - 24s 24s/step - loss: 68639.0078 - accuracy: 0.3485 - val_loss: 147064.9688 - val_accuracy: 0.4688\n",
      "Epoch 10/10\n",
      "1/1 [==============================] - 13s 13s/step - loss: 168944.1094 - accuracy: 0.3182 - val_loss: 146601.6406 - val_accuracy: 0.4688\n",
      "1/1 [==============================] - 1s 926ms/step - loss: 146601.6406 - accuracy: 0.4688\n",
      "Validation accuracy: 0.46875\n"
     ]
    }
   ],
   "source": [
    "model = keras.Sequential([\n",
    "    layers.InputLayer(input_shape=(1000, 1000, 3)),  # Assuming RGB images\n",
    "    layers.Flatten(),\n",
    "    layers.Dense(128, activation='relu'),\n",
    "    layers.Dense(64, activation='relu'),\n",
    "    layers.Dense(3, activation='softmax')  # num_classes is the number of facial expression classes\n",
    "])\n",
    "\n",
    "model.compile(optimizer='adam',\n",
    "              loss='categorical_crossentropy',\n",
    "              metrics=['accuracy'])\n",
    "\n",
    "history = model.fit(train,\n",
    "                    validation_data=validation,\n",
    "                    epochs=10)  # Adjust epochs as needed\n",
    "\n",
    "loss, accuracy = model.evaluate(validation)\n",
    "print(\"Validation accuracy:\", accuracy)\n"
   ]
  },
  {
   "cell_type": "code",
   "execution_count": 5,
   "metadata": {},
   "outputs": [
    {
     "name": "stdout",
     "output_type": "stream",
     "text": [
      "1/1 [==============================] - 5s 5s/step - loss: 153497.6094 - accuracy: 0.3182\n",
      "Training accuracy: 0.3181818127632141\n",
      "1/1 [==============================] - 1s 710ms/step - loss: 146601.6562 - accuracy: 0.4688\n",
      "Validation accuracy: 0.46875\n"
     ]
    }
   ],
   "source": [
    "loss, train_accuracy = model.evaluate(train)\n",
    "print(\"Training accuracy:\", train_accuracy)\n",
    "\n",
    "loss, test_accuracy = model.evaluate(validation)\n",
    "print(\"Validation accuracy:\", test_accuracy)"
   ]
  },
  {
   "cell_type": "code",
   "execution_count": null,
   "metadata": {},
   "outputs": [
    {
     "data": {
      "text/html": [
       "<div>\n",
       "<style scoped>\n",
       "    .dataframe tbody tr th:only-of-type {\n",
       "        vertical-align: middle;\n",
       "    }\n",
       "\n",
       "    .dataframe tbody tr th {\n",
       "        vertical-align: top;\n",
       "    }\n",
       "\n",
       "    .dataframe thead th {\n",
       "        text-align: right;\n",
       "    }\n",
       "</style>\n",
       "<table border=\"1\" class=\"dataframe\">\n",
       "  <thead>\n",
       "    <tr style=\"text-align: right;\">\n",
       "      <th></th>\n",
       "      <th>metrics</th>\n",
       "      <th>values</th>\n",
       "    </tr>\n",
       "  </thead>\n",
       "  <tbody>\n",
       "    <tr>\n",
       "      <th>0</th>\n",
       "      <td>accuracy</td>\n",
       "      <td>0.969444</td>\n",
       "    </tr>\n",
       "    <tr>\n",
       "      <th>1</th>\n",
       "      <td>recall</td>\n",
       "      <td>0.969444</td>\n",
       "    </tr>\n",
       "    <tr>\n",
       "      <th>2</th>\n",
       "      <td>precision</td>\n",
       "      <td>0.969547</td>\n",
       "    </tr>\n",
       "    <tr>\n",
       "      <th>3</th>\n",
       "      <td>f1</td>\n",
       "      <td>0.969339</td>\n",
       "    </tr>\n",
       "  </tbody>\n",
       "</table>\n",
       "</div>"
      ],
      "text/plain": [
       "     metrics    values\n",
       "0   accuracy  0.969444\n",
       "1     recall  0.969444\n",
       "2  precision  0.969547\n",
       "3         f1  0.969339"
      ]
     },
     "execution_count": 9,
     "metadata": {},
     "output_type": "execute_result"
    }
   ],
   "source": [
    "# Predict the labels for the test set\n",
    "y_pred = ann.predict(X_test)\n",
    "\n",
    "predict_metrics(y_pred, y_test)"
   ]
  }
 ],
 "metadata": {
  "kernelspec": {
   "display_name": "Python 3",
   "language": "python",
   "name": "python3"
  },
  "language_info": {
   "codemirror_mode": {
    "name": "ipython",
    "version": 3
   },
   "file_extension": ".py",
   "mimetype": "text/x-python",
   "name": "python",
   "nbconvert_exporter": "python",
   "pygments_lexer": "ipython3",
   "version": "3.8.11"
  }
 },
 "nbformat": 4,
 "nbformat_minor": 2
}
