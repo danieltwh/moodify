{
 "cells": [
  {
   "cell_type": "code",
   "execution_count": 1,
   "metadata": {},
   "outputs": [],
   "source": [
    "import numpy as np\n",
    "#import pandas as pd\n",
    "\n",
    "import tensorflow.keras as keras\n",
    "from tensorflow.keras import Model\n",
    "from tensorflow.keras.callbacks import ModelCheckpoint\n",
    "from PIL import Image\n",
    "from sklearn.decomposition import PCA\n",
    "\n",
    "from sklearn.linear_model import LogisticRegression\n",
    "from sklearn.metrics import accuracy_score\n",
    "\n",
    "from ultralytics import YOLO"
   ]
  },
  {
   "cell_type": "markdown",
   "metadata": {},
   "source": [
    "# Try without face cropping"
   ]
  },
  {
   "cell_type": "code",
   "execution_count": 2,
   "metadata": {},
   "outputs": [
    {
     "name": "stdout",
     "output_type": "stream",
     "text": [
      "Found 154 files belonging to 3 classes.\n",
      "Using 124 files for training.\n",
      "Found 154 files belonging to 3 classes.\n",
      "Using 30 files for validation.\n"
     ]
    }
   ],
   "source": [
    "train = keras.utils.image_dataset_from_directory(\n",
    "    directory='../../data/Faces updated',\n",
    "    labels='inferred',\n",
    "    label_mode='categorical',\n",
    "    batch_size=140,\n",
    "    image_size=(1000, 1000),\n",
    "    validation_split = 0.2,\n",
    "    subset = 'training',\n",
    "    seed = 50,\n",
    "   \n",
    "   # color_mode = 'grayscale'\n",
    "    )\n",
    "\n",
    "validation = keras.utils.image_dataset_from_directory(\n",
    "    directory='../../data/Faces updated',\n",
    "    labels='inferred',\n",
    "    label_mode='categorical',\n",
    "    batch_size=140,\n",
    "    image_size=(1000, 1000),\n",
    "    validation_split = 0.2,\n",
    "    subset = 'validation',\n",
    "    seed = 50,\n",
    "   # class_names = ['Happy', 'Sad', 'Neutral'],\n",
    " #   color_mode = 'grayscale'\n",
    "    )"
   ]
  },
  {
   "cell_type": "code",
   "execution_count": 3,
   "metadata": {},
   "outputs": [],
   "source": [
    "#convert to numpy images and then perform PCA to extract the values\n",
    "#convert images to numpy\n",
    "train_processed_numpy = train.as_numpy_iterator()\n",
    "validation_processed_numpy = validation.as_numpy_iterator()\n",
    "\n",
    "X_train, y_train = train_processed_numpy.next()\n",
    "X_val, y_val = validation_processed_numpy.next()"
   ]
  },
  {
   "cell_type": "code",
   "execution_count": 4,
   "metadata": {},
   "outputs": [],
   "source": [
    "X_train = X_train.reshape((X_train.shape[0], X_train.shape[1] * X_train.shape[2] * X_train.shape[3]))\n",
    "X_val = X_val.reshape((X_val.shape[0], X_val.shape[1] * X_val.shape[2] * X_val.shape[3]))"
   ]
  },
  {
   "cell_type": "code",
   "execution_count": 5,
   "metadata": {},
   "outputs": [],
   "source": [
    "pca = PCA(n_components = 50)\n",
    "\n",
    "X_train_lower_dim = pca.fit_transform(X_train)"
   ]
  },
  {
   "cell_type": "code",
   "execution_count": null,
   "metadata": {},
   "outputs": [],
   "source": []
  }
 ],
 "metadata": {
  "kernelspec": {
   "display_name": "emotion_detection",
   "language": "python",
   "name": "python3"
  },
  "language_info": {
   "codemirror_mode": {
    "name": "ipython",
    "version": 3
   },
   "file_extension": ".py",
   "mimetype": "text/x-python",
   "name": "python",
   "nbconvert_exporter": "python",
   "pygments_lexer": "ipython3",
   "version": "3.10.7"
  }
 },
 "nbformat": 4,
 "nbformat_minor": 2
}
